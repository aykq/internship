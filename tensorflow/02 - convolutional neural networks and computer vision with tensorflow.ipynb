{
 "cells": [
  {
   "cell_type": "markdown",
   "metadata": {},
   "source": [
    "# Convolutional Neural Networks and Computer Vision with TensorFlow\n",
    "\n",
    "Now we're going to get specific and see how a special kind o neural network, [convolutional neural networks (CNNs)](https://en.wikipedia.org/wiki/Convolutional_neural_network) can be used for computer vision (detecting patterns in visual data).\n",
    "\n",
    "For example, you might want to:\n",
    "+ Classify whether a picture of food contains pizza or steak.\n",
    "+ Detect whether or not an object appears in an image (e.g. did a specific car pass through a securtiy camera?)\n",
    "\n",
    "In this notebook, we're going to follow the TensorFlow modelling workflow we've been following so far whilst learning about how to build and use CNNs."
   ]
  },
  {
   "cell_type": "markdown",
   "metadata": {},
   "source": [
    "---\n",
    "# What we're going to cover\n",
    "\n",
    "Specifically, we're going to go through the follow with TensorFlow:\n",
    "\n",
    "+ Getting a dataset to work with\n",
    "\n",
    "+ Architecture of a convolutional neural network\n",
    "\n",
    "+ A quick ent-to-end example (what we're working towards)\n",
    "\n",
    "+ Steps in modelling for binary image classification with CNNs\n",
    "    \n",
    "    + Becoming one with the data\n",
    "    \n",
    "    + Preparing data for modelling\n",
    "    \n",
    "    + Creating a CNN model (starting with a baseline)\n",
    "    \n",
    "    + Fitting a model (getting it to find patterns in our data)\n",
    "    \n",
    "    + Evaluating a model\n",
    "    \n",
    "    + Improving a model\n",
    "    \n",
    "    + Making a prediction with a trained model\n",
    "    \n",
    "+ Steps in modelling for multi-class image classification with CNNs\n",
    "\n",
    "+ Same as above (but this time with a different dataset)"
   ]
  }
 ],
 "metadata": {
  "language_info": {
   "name": "python"
  },
  "orig_nbformat": 4
 },
 "nbformat": 4,
 "nbformat_minor": 2
}
