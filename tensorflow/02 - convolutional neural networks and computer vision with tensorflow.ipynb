{
 "cells": [
  {
   "cell_type": "markdown",
   "metadata": {},
   "source": [
    "# Convolutional Neural Networks and Computer Vision with TensorFlow\n",
    "\n",
    "Now we're going to get specific and see how a special kind o neural network, [convolutional neural networks (CNNs)](https://en.wikipedia.org/wiki/Convolutional_neural_network) can be used for computer vision (detecting patterns in visual data).\n",
    "\n",
    "For example, you might want to:\n",
    "+ Classify whether a picture of food contains pizza or steak.\n",
    "+ Detect whether or not an object appears in an image (e.g. did a specific car pass through a securtiy camera?)\n",
    "\n",
    "In this notebook, we're going to follow the TensorFlow modelling workflow we've been following so far whilst learning about how to build and use CNNs."
   ]
  }
 ],
 "metadata": {
  "language_info": {
   "name": "python"
  },
  "orig_nbformat": 4
 },
 "nbformat": 4,
 "nbformat_minor": 2
}
